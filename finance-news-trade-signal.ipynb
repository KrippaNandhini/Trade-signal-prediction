{
 "cells": [
  {
   "cell_type": "code",
   "execution_count": 1,
   "id": "deacb072",
   "metadata": {
    "_cell_guid": "b1076dfc-b9ad-4769-8c92-a6c4dae69d19",
    "_uuid": "8f2839f25d086af736a60e9eeb907d3b93b6e0e5",
    "execution": {
     "iopub.execute_input": "2024-02-13T04:12:58.721054Z",
     "iopub.status.busy": "2024-02-13T04:12:58.720550Z",
     "iopub.status.idle": "2024-02-13T04:13:11.990609Z",
     "shell.execute_reply": "2024-02-13T04:13:11.989227Z"
    },
    "papermill": {
     "duration": 13.278931,
     "end_time": "2024-02-13T04:13:11.993209",
     "exception": false,
     "start_time": "2024-02-13T04:12:58.714278",
     "status": "completed"
    },
    "tags": []
   },
   "outputs": [
    {
     "name": "stdout",
     "output_type": "stream",
     "text": [
      "Collecting vaderSentiment\r\n",
      "  Downloading vaderSentiment-3.3.2-py2.py3-none-any.whl (125 kB)\r\n",
      "\u001b[2K     \u001b[90m━━━━━━━━━━━━━━━━━━━━━━━━━━━━━━━━━━━━━━━\u001b[0m \u001b[32m126.0/126.0 kB\u001b[0m \u001b[31m2.7 MB/s\u001b[0m eta \u001b[36m0:00:00\u001b[0m\r\n",
      "\u001b[?25hRequirement already satisfied: requests in /opt/conda/lib/python3.10/site-packages (from vaderSentiment) (2.31.0)\r\n",
      "Requirement already satisfied: charset-normalizer<4,>=2 in /opt/conda/lib/python3.10/site-packages (from requests->vaderSentiment) (3.3.2)\r\n",
      "Requirement already satisfied: idna<4,>=2.5 in /opt/conda/lib/python3.10/site-packages (from requests->vaderSentiment) (3.6)\r\n",
      "Requirement already satisfied: urllib3<3,>=1.21.1 in /opt/conda/lib/python3.10/site-packages (from requests->vaderSentiment) (1.26.18)\r\n",
      "Requirement already satisfied: certifi>=2017.4.17 in /opt/conda/lib/python3.10/site-packages (from requests->vaderSentiment) (2023.11.17)\r\n",
      "Installing collected packages: vaderSentiment\r\n",
      "Successfully installed vaderSentiment-3.3.2\r\n"
     ]
    }
   ],
   "source": [
    "!pip install vaderSentiment"
   ]
  },
  {
   "cell_type": "code",
   "execution_count": 2,
   "id": "906f5cc1",
   "metadata": {
    "execution": {
     "iopub.execute_input": "2024-02-13T04:13:12.003907Z",
     "iopub.status.busy": "2024-02-13T04:13:12.003512Z",
     "iopub.status.idle": "2024-02-13T04:13:13.324124Z",
     "shell.execute_reply": "2024-02-13T04:13:13.323056Z"
    },
    "papermill": {
     "duration": 1.329031,
     "end_time": "2024-02-13T04:13:13.326690",
     "exception": false,
     "start_time": "2024-02-13T04:13:11.997659",
     "status": "completed"
    },
    "tags": []
   },
   "outputs": [],
   "source": [
    "import numpy as np\n",
    "import pandas as pd\n",
    "import plotly.express as px"
   ]
  },
  {
   "cell_type": "code",
   "execution_count": 3,
   "id": "c5a66b61",
   "metadata": {
    "execution": {
     "iopub.execute_input": "2024-02-13T04:13:13.337024Z",
     "iopub.status.busy": "2024-02-13T04:13:13.336466Z",
     "iopub.status.idle": "2024-02-13T04:13:13.397564Z",
     "shell.execute_reply": "2024-02-13T04:13:13.396797Z"
    },
    "papermill": {
     "duration": 0.068634,
     "end_time": "2024-02-13T04:13:13.399586",
     "exception": false,
     "start_time": "2024-02-13T04:13:13.330952",
     "status": "completed"
    },
    "tags": []
   },
   "outputs": [
    {
     "data": {
      "text/html": [
       "<div>\n",
       "<style scoped>\n",
       "    .dataframe tbody tr th:only-of-type {\n",
       "        vertical-align: middle;\n",
       "    }\n",
       "\n",
       "    .dataframe tbody tr th {\n",
       "        vertical-align: top;\n",
       "    }\n",
       "\n",
       "    .dataframe thead th {\n",
       "        text-align: right;\n",
       "    }\n",
       "</style>\n",
       "<table border=\"1\" class=\"dataframe\">\n",
       "  <thead>\n",
       "    <tr style=\"text-align: right;\">\n",
       "      <th></th>\n",
       "      <th>Date_published</th>\n",
       "      <th>Headline</th>\n",
       "      <th>Synopsis</th>\n",
       "      <th>Full_text</th>\n",
       "      <th>Final Status</th>\n",
       "    </tr>\n",
       "  </thead>\n",
       "  <tbody>\n",
       "    <tr>\n",
       "      <th>0</th>\n",
       "      <td>2022-06-21</td>\n",
       "      <td>Banks holding on to subsidy share, say payment...</td>\n",
       "      <td>The companies have written to the National Pay...</td>\n",
       "      <td>ReutersPayments companies and banks are at log...</td>\n",
       "      <td>Negative</td>\n",
       "    </tr>\n",
       "    <tr>\n",
       "      <th>1</th>\n",
       "      <td>2022-04-19</td>\n",
       "      <td>Digitally ready Bank of Baroda aims to click o...</td>\n",
       "      <td>At present, 50% of the bank's retail loans are...</td>\n",
       "      <td>AgenciesThe bank presently has 20 million acti...</td>\n",
       "      <td>Positive</td>\n",
       "    </tr>\n",
       "    <tr>\n",
       "      <th>2</th>\n",
       "      <td>2022-05-27</td>\n",
       "      <td>Karnataka attracted investment commitment of R...</td>\n",
       "      <td>Karnataka is at the forefront in attracting in...</td>\n",
       "      <td>PTIKarnataka Chief Minister Basavaraj Bommai.K...</td>\n",
       "      <td>Positive</td>\n",
       "    </tr>\n",
       "    <tr>\n",
       "      <th>3</th>\n",
       "      <td>2022-04-06</td>\n",
       "      <td>Splitting of provident fund accounts may be de...</td>\n",
       "      <td>The EPFO is likely to split accounts only at t...</td>\n",
       "      <td>Getty ImagesThe budget for FY22 had imposed in...</td>\n",
       "      <td>Negative</td>\n",
       "    </tr>\n",
       "    <tr>\n",
       "      <th>4</th>\n",
       "      <td>2022-06-14</td>\n",
       "      <td>Irdai weighs proposal to privatise Insurance I...</td>\n",
       "      <td>Set up in 2009 as an advisory body, IIB collec...</td>\n",
       "      <td>AgenciesThere is a view in the insurance indus...</td>\n",
       "      <td>Positive</td>\n",
       "    </tr>\n",
       "  </tbody>\n",
       "</table>\n",
       "</div>"
      ],
      "text/plain": [
       "  Date_published                                           Headline  \\\n",
       "0     2022-06-21  Banks holding on to subsidy share, say payment...   \n",
       "1     2022-04-19  Digitally ready Bank of Baroda aims to click o...   \n",
       "2     2022-05-27  Karnataka attracted investment commitment of R...   \n",
       "3     2022-04-06  Splitting of provident fund accounts may be de...   \n",
       "4     2022-06-14  Irdai weighs proposal to privatise Insurance I...   \n",
       "\n",
       "                                            Synopsis  \\\n",
       "0  The companies have written to the National Pay...   \n",
       "1  At present, 50% of the bank's retail loans are...   \n",
       "2  Karnataka is at the forefront in attracting in...   \n",
       "3  The EPFO is likely to split accounts only at t...   \n",
       "4  Set up in 2009 as an advisory body, IIB collec...   \n",
       "\n",
       "                                           Full_text Final Status  \n",
       "0  ReutersPayments companies and banks are at log...     Negative  \n",
       "1  AgenciesThe bank presently has 20 million acti...     Positive  \n",
       "2  PTIKarnataka Chief Minister Basavaraj Bommai.K...     Positive  \n",
       "3  Getty ImagesThe budget for FY22 had imposed in...     Negative  \n",
       "4  AgenciesThere is a view in the insurance indus...     Positive  "
      ]
     },
     "execution_count": 3,
     "metadata": {},
     "output_type": "execute_result"
    }
   ],
   "source": [
    "df = pd.read_csv(\"/kaggle/input/sentiment-analysis-labelled-financial-news-data/Fin_Cleaned.csv\")\n",
    "df.head()"
   ]
  },
  {
   "cell_type": "code",
   "execution_count": 4,
   "id": "1413d0d4",
   "metadata": {
    "execution": {
     "iopub.execute_input": "2024-02-13T04:13:13.410314Z",
     "iopub.status.busy": "2024-02-13T04:13:13.409764Z",
     "iopub.status.idle": "2024-02-13T04:13:13.421580Z",
     "shell.execute_reply": "2024-02-13T04:13:13.420523Z"
    },
    "papermill": {
     "duration": 0.019917,
     "end_time": "2024-02-13T04:13:13.423944",
     "exception": false,
     "start_time": "2024-02-13T04:13:13.404027",
     "status": "completed"
    },
    "tags": []
   },
   "outputs": [],
   "source": [
    "df = df.drop(['Date_published', 'Headline', 'Synopsis'], axis = 1)"
   ]
  },
  {
   "cell_type": "code",
   "execution_count": 5,
   "id": "3e3f1d83",
   "metadata": {
    "execution": {
     "iopub.execute_input": "2024-02-13T04:13:13.434167Z",
     "iopub.status.busy": "2024-02-13T04:13:13.433827Z",
     "iopub.status.idle": "2024-02-13T04:13:13.442808Z",
     "shell.execute_reply": "2024-02-13T04:13:13.441835Z"
    },
    "papermill": {
     "duration": 0.018034,
     "end_time": "2024-02-13T04:13:13.446405",
     "exception": false,
     "start_time": "2024-02-13T04:13:13.428371",
     "status": "completed"
    },
    "tags": []
   },
   "outputs": [
    {
     "data": {
      "text/html": [
       "<div>\n",
       "<style scoped>\n",
       "    .dataframe tbody tr th:only-of-type {\n",
       "        vertical-align: middle;\n",
       "    }\n",
       "\n",
       "    .dataframe tbody tr th {\n",
       "        vertical-align: top;\n",
       "    }\n",
       "\n",
       "    .dataframe thead th {\n",
       "        text-align: right;\n",
       "    }\n",
       "</style>\n",
       "<table border=\"1\" class=\"dataframe\">\n",
       "  <thead>\n",
       "    <tr style=\"text-align: right;\">\n",
       "      <th></th>\n",
       "      <th>Full_text</th>\n",
       "      <th>Final Status</th>\n",
       "    </tr>\n",
       "  </thead>\n",
       "  <tbody>\n",
       "    <tr>\n",
       "      <th>0</th>\n",
       "      <td>ReutersPayments companies and banks are at log...</td>\n",
       "      <td>Negative</td>\n",
       "    </tr>\n",
       "    <tr>\n",
       "      <th>1</th>\n",
       "      <td>AgenciesThe bank presently has 20 million acti...</td>\n",
       "      <td>Positive</td>\n",
       "    </tr>\n",
       "    <tr>\n",
       "      <th>2</th>\n",
       "      <td>PTIKarnataka Chief Minister Basavaraj Bommai.K...</td>\n",
       "      <td>Positive</td>\n",
       "    </tr>\n",
       "  </tbody>\n",
       "</table>\n",
       "</div>"
      ],
      "text/plain": [
       "                                           Full_text Final Status\n",
       "0  ReutersPayments companies and banks are at log...     Negative\n",
       "1  AgenciesThe bank presently has 20 million acti...     Positive\n",
       "2  PTIKarnataka Chief Minister Basavaraj Bommai.K...     Positive"
      ]
     },
     "execution_count": 5,
     "metadata": {},
     "output_type": "execute_result"
    }
   ],
   "source": [
    "df.head(3)"
   ]
  },
  {
   "cell_type": "code",
   "execution_count": 6,
   "id": "b7a887cf",
   "metadata": {
    "execution": {
     "iopub.execute_input": "2024-02-13T04:13:13.457495Z",
     "iopub.status.busy": "2024-02-13T04:13:13.456889Z",
     "iopub.status.idle": "2024-02-13T04:13:13.461331Z",
     "shell.execute_reply": "2024-02-13T04:13:13.460568Z"
    },
    "papermill": {
     "duration": 0.011989,
     "end_time": "2024-02-13T04:13:13.463186",
     "exception": false,
     "start_time": "2024-02-13T04:13:13.451197",
     "status": "completed"
    },
    "tags": []
   },
   "outputs": [],
   "source": [
    "# Function to generate trading signals based on sentiment\n",
    "def generate_trading_signal(sentiment):\n",
    "    if sentiment == 'Positive':\n",
    "        return 'buy'\n",
    "    elif sentiment == 'Negative':\n",
    "        return 'sell'\n",
    "    else:\n",
    "        return 'hold'"
   ]
  },
  {
   "cell_type": "code",
   "execution_count": 7,
   "id": "838b75a8",
   "metadata": {
    "execution": {
     "iopub.execute_input": "2024-02-13T04:13:13.474264Z",
     "iopub.status.busy": "2024-02-13T04:13:13.473336Z",
     "iopub.status.idle": "2024-02-13T04:13:13.480400Z",
     "shell.execute_reply": "2024-02-13T04:13:13.479490Z"
    },
    "papermill": {
     "duration": 0.014948,
     "end_time": "2024-02-13T04:13:13.482724",
     "exception": false,
     "start_time": "2024-02-13T04:13:13.467776",
     "status": "completed"
    },
    "tags": []
   },
   "outputs": [],
   "source": [
    "# Apply trading signal generation\n",
    "df['Trade_signal'] = df['Final Status'].apply(generate_trading_signal)"
   ]
  },
  {
   "cell_type": "code",
   "execution_count": 8,
   "id": "39182331",
   "metadata": {
    "execution": {
     "iopub.execute_input": "2024-02-13T04:13:13.493975Z",
     "iopub.status.busy": "2024-02-13T04:13:13.493424Z",
     "iopub.status.idle": "2024-02-13T04:13:13.502397Z",
     "shell.execute_reply": "2024-02-13T04:13:13.501638Z"
    },
    "papermill": {
     "duration": 0.016884,
     "end_time": "2024-02-13T04:13:13.504349",
     "exception": false,
     "start_time": "2024-02-13T04:13:13.487465",
     "status": "completed"
    },
    "tags": []
   },
   "outputs": [
    {
     "data": {
      "text/html": [
       "<div>\n",
       "<style scoped>\n",
       "    .dataframe tbody tr th:only-of-type {\n",
       "        vertical-align: middle;\n",
       "    }\n",
       "\n",
       "    .dataframe tbody tr th {\n",
       "        vertical-align: top;\n",
       "    }\n",
       "\n",
       "    .dataframe thead th {\n",
       "        text-align: right;\n",
       "    }\n",
       "</style>\n",
       "<table border=\"1\" class=\"dataframe\">\n",
       "  <thead>\n",
       "    <tr style=\"text-align: right;\">\n",
       "      <th></th>\n",
       "      <th>Full_text</th>\n",
       "      <th>Final Status</th>\n",
       "      <th>Trade_signal</th>\n",
       "    </tr>\n",
       "  </thead>\n",
       "  <tbody>\n",
       "    <tr>\n",
       "      <th>0</th>\n",
       "      <td>ReutersPayments companies and banks are at log...</td>\n",
       "      <td>Negative</td>\n",
       "      <td>sell</td>\n",
       "    </tr>\n",
       "    <tr>\n",
       "      <th>1</th>\n",
       "      <td>AgenciesThe bank presently has 20 million acti...</td>\n",
       "      <td>Positive</td>\n",
       "      <td>buy</td>\n",
       "    </tr>\n",
       "    <tr>\n",
       "      <th>2</th>\n",
       "      <td>PTIKarnataka Chief Minister Basavaraj Bommai.K...</td>\n",
       "      <td>Positive</td>\n",
       "      <td>buy</td>\n",
       "    </tr>\n",
       "    <tr>\n",
       "      <th>3</th>\n",
       "      <td>Getty ImagesThe budget for FY22 had imposed in...</td>\n",
       "      <td>Negative</td>\n",
       "      <td>sell</td>\n",
       "    </tr>\n",
       "    <tr>\n",
       "      <th>4</th>\n",
       "      <td>AgenciesThere is a view in the insurance indus...</td>\n",
       "      <td>Positive</td>\n",
       "      <td>buy</td>\n",
       "    </tr>\n",
       "  </tbody>\n",
       "</table>\n",
       "</div>"
      ],
      "text/plain": [
       "                                           Full_text Final Status Trade_signal\n",
       "0  ReutersPayments companies and banks are at log...     Negative         sell\n",
       "1  AgenciesThe bank presently has 20 million acti...     Positive          buy\n",
       "2  PTIKarnataka Chief Minister Basavaraj Bommai.K...     Positive          buy\n",
       "3  Getty ImagesThe budget for FY22 had imposed in...     Negative         sell\n",
       "4  AgenciesThere is a view in the insurance indus...     Positive          buy"
      ]
     },
     "execution_count": 8,
     "metadata": {},
     "output_type": "execute_result"
    }
   ],
   "source": [
    "df.head()"
   ]
  },
  {
   "cell_type": "code",
   "execution_count": 9,
   "id": "0e534d53",
   "metadata": {
    "execution": {
     "iopub.execute_input": "2024-02-13T04:13:13.515219Z",
     "iopub.status.busy": "2024-02-13T04:13:13.514853Z",
     "iopub.status.idle": "2024-02-13T04:13:13.524652Z",
     "shell.execute_reply": "2024-02-13T04:13:13.523821Z"
    },
    "papermill": {
     "duration": 0.017788,
     "end_time": "2024-02-13T04:13:13.526860",
     "exception": false,
     "start_time": "2024-02-13T04:13:13.509072",
     "status": "completed"
    },
    "tags": []
   },
   "outputs": [],
   "source": [
    "category_counts = df['Trade_signal'].value_counts()"
   ]
  },
  {
   "cell_type": "code",
   "execution_count": 10,
   "id": "303da52b",
   "metadata": {
    "execution": {
     "iopub.execute_input": "2024-02-13T04:13:13.538408Z",
     "iopub.status.busy": "2024-02-13T04:13:13.537813Z",
     "iopub.status.idle": "2024-02-13T04:13:13.542613Z",
     "shell.execute_reply": "2024-02-13T04:13:13.541898Z"
    },
    "papermill": {
     "duration": 0.012909,
     "end_time": "2024-02-13T04:13:13.544579",
     "exception": false,
     "start_time": "2024-02-13T04:13:13.531670",
     "status": "completed"
    },
    "tags": []
   },
   "outputs": [],
   "source": [
    "# Create a DataFrame from the counts\n",
    "category_counts_df = pd.DataFrame(category_counts).reset_index()"
   ]
  },
  {
   "cell_type": "code",
   "execution_count": 11,
   "id": "fadca5d2",
   "metadata": {
    "execution": {
     "iopub.execute_input": "2024-02-13T04:13:13.555961Z",
     "iopub.status.busy": "2024-02-13T04:13:13.555402Z",
     "iopub.status.idle": "2024-02-13T04:13:13.559171Z",
     "shell.execute_reply": "2024-02-13T04:13:13.558470Z"
    },
    "papermill": {
     "duration": 0.011952,
     "end_time": "2024-02-13T04:13:13.561348",
     "exception": false,
     "start_time": "2024-02-13T04:13:13.549396",
     "status": "completed"
    },
    "tags": []
   },
   "outputs": [],
   "source": [
    "# Rename the columns for clarity\n",
    "category_counts_df.columns = ['Trade_signal', 'count']"
   ]
  },
  {
   "cell_type": "code",
   "execution_count": 12,
   "id": "77fa4420",
   "metadata": {
    "execution": {
     "iopub.execute_input": "2024-02-13T04:13:13.572379Z",
     "iopub.status.busy": "2024-02-13T04:13:13.572018Z",
     "iopub.status.idle": "2024-02-13T04:13:15.350889Z",
     "shell.execute_reply": "2024-02-13T04:13:15.350030Z"
    },
    "papermill": {
     "duration": 1.787099,
     "end_time": "2024-02-13T04:13:15.353113",
     "exception": false,
     "start_time": "2024-02-13T04:13:13.566014",
     "status": "completed"
    },
    "tags": []
   },
   "outputs": [
    {
     "data": {
      "text/html": [
       "        <script type=\"text/javascript\">\n",
       "        window.PlotlyConfig = {MathJaxConfig: 'local'};\n",
       "        if (window.MathJax && window.MathJax.Hub && window.MathJax.Hub.Config) {window.MathJax.Hub.Config({SVG: {font: \"STIX-Web\"}});}\n",
       "        if (typeof require !== 'undefined') {\n",
       "        require.undef(\"plotly\");\n",
       "        requirejs.config({\n",
       "            paths: {\n",
       "                'plotly': ['https://cdn.plot.ly/plotly-2.27.0.min']\n",
       "            }\n",
       "        });\n",
       "        require(['plotly'], function(Plotly) {\n",
       "            window._Plotly = Plotly;\n",
       "        });\n",
       "        }\n",
       "        </script>\n",
       "        "
      ]
     },
     "metadata": {},
     "output_type": "display_data"
    },
    {
     "data": {
      "text/html": [
       "<div>                            <div id=\"214eb753-8627-4fed-9479-95d55cc4b483\" class=\"plotly-graph-div\" style=\"height:525px; width:100%;\"></div>            <script type=\"text/javascript\">                require([\"plotly\"], function(Plotly) {                    window.PLOTLYENV=window.PLOTLYENV || {};                                    if (document.getElementById(\"214eb753-8627-4fed-9479-95d55cc4b483\")) {                    Plotly.newPlot(                        \"214eb753-8627-4fed-9479-95d55cc4b483\",                        [{\"domain\":{\"x\":[0.0,1.0],\"y\":[0.0,1.0]},\"hole\":0.5,\"hovertemplate\":\"Trade_signal=%{label}\\u003cbr\\u003ecount=%{value}\\u003cextra\\u003e\\u003c\\u002fextra\\u003e\",\"labels\":[\"buy\",\"sell\",\"hold\"],\"legendgroup\":\"\",\"name\":\"\",\"showlegend\":true,\"values\":[215,184,1],\"type\":\"pie\",\"textinfo\":\"percent+label\",\"textposition\":\"inside\"}],                        {\"template\":{\"data\":{\"histogram2dcontour\":[{\"type\":\"histogram2dcontour\",\"colorbar\":{\"outlinewidth\":0,\"ticks\":\"\"},\"colorscale\":[[0.0,\"#0d0887\"],[0.1111111111111111,\"#46039f\"],[0.2222222222222222,\"#7201a8\"],[0.3333333333333333,\"#9c179e\"],[0.4444444444444444,\"#bd3786\"],[0.5555555555555556,\"#d8576b\"],[0.6666666666666666,\"#ed7953\"],[0.7777777777777778,\"#fb9f3a\"],[0.8888888888888888,\"#fdca26\"],[1.0,\"#f0f921\"]]}],\"choropleth\":[{\"type\":\"choropleth\",\"colorbar\":{\"outlinewidth\":0,\"ticks\":\"\"}}],\"histogram2d\":[{\"type\":\"histogram2d\",\"colorbar\":{\"outlinewidth\":0,\"ticks\":\"\"},\"colorscale\":[[0.0,\"#0d0887\"],[0.1111111111111111,\"#46039f\"],[0.2222222222222222,\"#7201a8\"],[0.3333333333333333,\"#9c179e\"],[0.4444444444444444,\"#bd3786\"],[0.5555555555555556,\"#d8576b\"],[0.6666666666666666,\"#ed7953\"],[0.7777777777777778,\"#fb9f3a\"],[0.8888888888888888,\"#fdca26\"],[1.0,\"#f0f921\"]]}],\"heatmap\":[{\"type\":\"heatmap\",\"colorbar\":{\"outlinewidth\":0,\"ticks\":\"\"},\"colorscale\":[[0.0,\"#0d0887\"],[0.1111111111111111,\"#46039f\"],[0.2222222222222222,\"#7201a8\"],[0.3333333333333333,\"#9c179e\"],[0.4444444444444444,\"#bd3786\"],[0.5555555555555556,\"#d8576b\"],[0.6666666666666666,\"#ed7953\"],[0.7777777777777778,\"#fb9f3a\"],[0.8888888888888888,\"#fdca26\"],[1.0,\"#f0f921\"]]}],\"heatmapgl\":[{\"type\":\"heatmapgl\",\"colorbar\":{\"outlinewidth\":0,\"ticks\":\"\"},\"colorscale\":[[0.0,\"#0d0887\"],[0.1111111111111111,\"#46039f\"],[0.2222222222222222,\"#7201a8\"],[0.3333333333333333,\"#9c179e\"],[0.4444444444444444,\"#bd3786\"],[0.5555555555555556,\"#d8576b\"],[0.6666666666666666,\"#ed7953\"],[0.7777777777777778,\"#fb9f3a\"],[0.8888888888888888,\"#fdca26\"],[1.0,\"#f0f921\"]]}],\"contourcarpet\":[{\"type\":\"contourcarpet\",\"colorbar\":{\"outlinewidth\":0,\"ticks\":\"\"}}],\"contour\":[{\"type\":\"contour\",\"colorbar\":{\"outlinewidth\":0,\"ticks\":\"\"},\"colorscale\":[[0.0,\"#0d0887\"],[0.1111111111111111,\"#46039f\"],[0.2222222222222222,\"#7201a8\"],[0.3333333333333333,\"#9c179e\"],[0.4444444444444444,\"#bd3786\"],[0.5555555555555556,\"#d8576b\"],[0.6666666666666666,\"#ed7953\"],[0.7777777777777778,\"#fb9f3a\"],[0.8888888888888888,\"#fdca26\"],[1.0,\"#f0f921\"]]}],\"surface\":[{\"type\":\"surface\",\"colorbar\":{\"outlinewidth\":0,\"ticks\":\"\"},\"colorscale\":[[0.0,\"#0d0887\"],[0.1111111111111111,\"#46039f\"],[0.2222222222222222,\"#7201a8\"],[0.3333333333333333,\"#9c179e\"],[0.4444444444444444,\"#bd3786\"],[0.5555555555555556,\"#d8576b\"],[0.6666666666666666,\"#ed7953\"],[0.7777777777777778,\"#fb9f3a\"],[0.8888888888888888,\"#fdca26\"],[1.0,\"#f0f921\"]]}],\"mesh3d\":[{\"type\":\"mesh3d\",\"colorbar\":{\"outlinewidth\":0,\"ticks\":\"\"}}],\"scatter\":[{\"fillpattern\":{\"fillmode\":\"overlay\",\"size\":10,\"solidity\":0.2},\"type\":\"scatter\"}],\"parcoords\":[{\"type\":\"parcoords\",\"line\":{\"colorbar\":{\"outlinewidth\":0,\"ticks\":\"\"}}}],\"scatterpolargl\":[{\"type\":\"scatterpolargl\",\"marker\":{\"colorbar\":{\"outlinewidth\":0,\"ticks\":\"\"}}}],\"bar\":[{\"error_x\":{\"color\":\"#2a3f5f\"},\"error_y\":{\"color\":\"#2a3f5f\"},\"marker\":{\"line\":{\"color\":\"#E5ECF6\",\"width\":0.5},\"pattern\":{\"fillmode\":\"overlay\",\"size\":10,\"solidity\":0.2}},\"type\":\"bar\"}],\"scattergeo\":[{\"type\":\"scattergeo\",\"marker\":{\"colorbar\":{\"outlinewidth\":0,\"ticks\":\"\"}}}],\"scatterpolar\":[{\"type\":\"scatterpolar\",\"marker\":{\"colorbar\":{\"outlinewidth\":0,\"ticks\":\"\"}}}],\"histogram\":[{\"marker\":{\"pattern\":{\"fillmode\":\"overlay\",\"size\":10,\"solidity\":0.2}},\"type\":\"histogram\"}],\"scattergl\":[{\"type\":\"scattergl\",\"marker\":{\"colorbar\":{\"outlinewidth\":0,\"ticks\":\"\"}}}],\"scatter3d\":[{\"type\":\"scatter3d\",\"line\":{\"colorbar\":{\"outlinewidth\":0,\"ticks\":\"\"}},\"marker\":{\"colorbar\":{\"outlinewidth\":0,\"ticks\":\"\"}}}],\"scattermapbox\":[{\"type\":\"scattermapbox\",\"marker\":{\"colorbar\":{\"outlinewidth\":0,\"ticks\":\"\"}}}],\"scatterternary\":[{\"type\":\"scatterternary\",\"marker\":{\"colorbar\":{\"outlinewidth\":0,\"ticks\":\"\"}}}],\"scattercarpet\":[{\"type\":\"scattercarpet\",\"marker\":{\"colorbar\":{\"outlinewidth\":0,\"ticks\":\"\"}}}],\"carpet\":[{\"aaxis\":{\"endlinecolor\":\"#2a3f5f\",\"gridcolor\":\"white\",\"linecolor\":\"white\",\"minorgridcolor\":\"white\",\"startlinecolor\":\"#2a3f5f\"},\"baxis\":{\"endlinecolor\":\"#2a3f5f\",\"gridcolor\":\"white\",\"linecolor\":\"white\",\"minorgridcolor\":\"white\",\"startlinecolor\":\"#2a3f5f\"},\"type\":\"carpet\"}],\"table\":[{\"cells\":{\"fill\":{\"color\":\"#EBF0F8\"},\"line\":{\"color\":\"white\"}},\"header\":{\"fill\":{\"color\":\"#C8D4E3\"},\"line\":{\"color\":\"white\"}},\"type\":\"table\"}],\"barpolar\":[{\"marker\":{\"line\":{\"color\":\"#E5ECF6\",\"width\":0.5},\"pattern\":{\"fillmode\":\"overlay\",\"size\":10,\"solidity\":0.2}},\"type\":\"barpolar\"}],\"pie\":[{\"automargin\":true,\"type\":\"pie\"}]},\"layout\":{\"autotypenumbers\":\"strict\",\"colorway\":[\"#636efa\",\"#EF553B\",\"#00cc96\",\"#ab63fa\",\"#FFA15A\",\"#19d3f3\",\"#FF6692\",\"#B6E880\",\"#FF97FF\",\"#FECB52\"],\"font\":{\"color\":\"#2a3f5f\"},\"hovermode\":\"closest\",\"hoverlabel\":{\"align\":\"left\"},\"paper_bgcolor\":\"white\",\"plot_bgcolor\":\"#E5ECF6\",\"polar\":{\"bgcolor\":\"#E5ECF6\",\"angularaxis\":{\"gridcolor\":\"white\",\"linecolor\":\"white\",\"ticks\":\"\"},\"radialaxis\":{\"gridcolor\":\"white\",\"linecolor\":\"white\",\"ticks\":\"\"}},\"ternary\":{\"bgcolor\":\"#E5ECF6\",\"aaxis\":{\"gridcolor\":\"white\",\"linecolor\":\"white\",\"ticks\":\"\"},\"baxis\":{\"gridcolor\":\"white\",\"linecolor\":\"white\",\"ticks\":\"\"},\"caxis\":{\"gridcolor\":\"white\",\"linecolor\":\"white\",\"ticks\":\"\"}},\"coloraxis\":{\"colorbar\":{\"outlinewidth\":0,\"ticks\":\"\"}},\"colorscale\":{\"sequential\":[[0.0,\"#0d0887\"],[0.1111111111111111,\"#46039f\"],[0.2222222222222222,\"#7201a8\"],[0.3333333333333333,\"#9c179e\"],[0.4444444444444444,\"#bd3786\"],[0.5555555555555556,\"#d8576b\"],[0.6666666666666666,\"#ed7953\"],[0.7777777777777778,\"#fb9f3a\"],[0.8888888888888888,\"#fdca26\"],[1.0,\"#f0f921\"]],\"sequentialminus\":[[0.0,\"#0d0887\"],[0.1111111111111111,\"#46039f\"],[0.2222222222222222,\"#7201a8\"],[0.3333333333333333,\"#9c179e\"],[0.4444444444444444,\"#bd3786\"],[0.5555555555555556,\"#d8576b\"],[0.6666666666666666,\"#ed7953\"],[0.7777777777777778,\"#fb9f3a\"],[0.8888888888888888,\"#fdca26\"],[1.0,\"#f0f921\"]],\"diverging\":[[0,\"#8e0152\"],[0.1,\"#c51b7d\"],[0.2,\"#de77ae\"],[0.3,\"#f1b6da\"],[0.4,\"#fde0ef\"],[0.5,\"#f7f7f7\"],[0.6,\"#e6f5d0\"],[0.7,\"#b8e186\"],[0.8,\"#7fbc41\"],[0.9,\"#4d9221\"],[1,\"#276419\"]]},\"xaxis\":{\"gridcolor\":\"white\",\"linecolor\":\"white\",\"ticks\":\"\",\"title\":{\"standoff\":15},\"zerolinecolor\":\"white\",\"automargin\":true,\"zerolinewidth\":2},\"yaxis\":{\"gridcolor\":\"white\",\"linecolor\":\"white\",\"ticks\":\"\",\"title\":{\"standoff\":15},\"zerolinecolor\":\"white\",\"automargin\":true,\"zerolinewidth\":2},\"scene\":{\"xaxis\":{\"backgroundcolor\":\"#E5ECF6\",\"gridcolor\":\"white\",\"linecolor\":\"white\",\"showbackground\":true,\"ticks\":\"\",\"zerolinecolor\":\"white\",\"gridwidth\":2},\"yaxis\":{\"backgroundcolor\":\"#E5ECF6\",\"gridcolor\":\"white\",\"linecolor\":\"white\",\"showbackground\":true,\"ticks\":\"\",\"zerolinecolor\":\"white\",\"gridwidth\":2},\"zaxis\":{\"backgroundcolor\":\"#E5ECF6\",\"gridcolor\":\"white\",\"linecolor\":\"white\",\"showbackground\":true,\"ticks\":\"\",\"zerolinecolor\":\"white\",\"gridwidth\":2}},\"shapedefaults\":{\"line\":{\"color\":\"#2a3f5f\"}},\"annotationdefaults\":{\"arrowcolor\":\"#2a3f5f\",\"arrowhead\":0,\"arrowwidth\":1},\"geo\":{\"bgcolor\":\"white\",\"landcolor\":\"#E5ECF6\",\"subunitcolor\":\"white\",\"showland\":true,\"showlakes\":true,\"lakecolor\":\"white\"},\"title\":{\"x\":0.05},\"mapbox\":{\"style\":\"light\"}}},\"legend\":{\"tracegroupgap\":0},\"margin\":{\"t\":60}},                        {\"responsive\": true}                    ).then(function(){\n",
       "                            \n",
       "var gd = document.getElementById('214eb753-8627-4fed-9479-95d55cc4b483');\n",
       "var x = new MutationObserver(function (mutations, observer) {{\n",
       "        var display = window.getComputedStyle(gd).display;\n",
       "        if (!display || display === 'none') {{\n",
       "            console.log([gd, 'removed!']);\n",
       "            Plotly.purge(gd);\n",
       "            observer.disconnect();\n",
       "        }}\n",
       "}});\n",
       "\n",
       "// Listen for the removal of the full notebook cells\n",
       "var notebookContainer = gd.closest('#notebook-container');\n",
       "if (notebookContainer) {{\n",
       "    x.observe(notebookContainer, {childList: true});\n",
       "}}\n",
       "\n",
       "// Listen for the clearing of the current output cell\n",
       "var outputEl = gd.closest('.output');\n",
       "if (outputEl) {{\n",
       "    x.observe(outputEl, {childList: true});\n",
       "}}\n",
       "\n",
       "                        })                };                });            </script>        </div>"
      ]
     },
     "metadata": {},
     "output_type": "display_data"
    }
   ],
   "source": [
    "# Create a donut chart using Plotly Express\n",
    "fig = px.pie(category_counts_df, values='count', names='Trade_signal', hole=0.5)\n",
    "\n",
    "# Update layout to make it look like a donut chart\n",
    "fig.update_traces(textposition='inside', textinfo='percent+label')\n",
    "\n",
    "# Show the chart\n",
    "fig.show()"
   ]
  },
  {
   "cell_type": "code",
   "execution_count": null,
   "id": "b53cbf6c",
   "metadata": {
    "papermill": {
     "duration": 0.004864,
     "end_time": "2024-02-13T04:13:15.363357",
     "exception": false,
     "start_time": "2024-02-13T04:13:15.358493",
     "status": "completed"
    },
    "tags": []
   },
   "outputs": [],
   "source": []
  }
 ],
 "metadata": {
  "kaggle": {
   "accelerator": "none",
   "dataSources": [
    {
     "datasetId": 4312917,
     "sourceId": 7414190,
     "sourceType": "datasetVersion"
    }
   ],
   "dockerImageVersionId": 30646,
   "isGpuEnabled": false,
   "isInternetEnabled": true,
   "language": "python",
   "sourceType": "notebook"
  },
  "kernelspec": {
   "display_name": "Python 3",
   "language": "python",
   "name": "python3"
  },
  "language_info": {
   "codemirror_mode": {
    "name": "ipython",
    "version": 3
   },
   "file_extension": ".py",
   "mimetype": "text/x-python",
   "name": "python",
   "nbconvert_exporter": "python",
   "pygments_lexer": "ipython3",
   "version": "3.10.13"
  },
  "papermill": {
   "default_parameters": {},
   "duration": 19.921499,
   "end_time": "2024-02-13T04:13:15.989582",
   "environment_variables": {},
   "exception": null,
   "input_path": "__notebook__.ipynb",
   "output_path": "__notebook__.ipynb",
   "parameters": {},
   "start_time": "2024-02-13T04:12:56.068083",
   "version": "2.5.0"
  }
 },
 "nbformat": 4,
 "nbformat_minor": 5
}
